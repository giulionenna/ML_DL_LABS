{
  "cells": [
    {
      "cell_type": "code",
      "execution_count": null,
      "metadata": {},
      "outputs": [],
      "source": []
    },
    {
      "cell_type": "code",
      "execution_count": 8,
      "metadata": {
        "colab": {
          "base_uri": "https://localhost:8080/"
        },
        "id": "IPUk4i0brkbk",
        "outputId": "3c559558-3c34-4b6c-8f40-d357e5ca8079"
      },
      "outputs": [
        {
          "data": {
            "text/plain": [
              "((1797, 64), (1797,))"
            ]
          },
          "execution_count": 8,
          "metadata": {},
          "output_type": "execute_result"
        }
      ],
      "source": [
        "import sklearn\n",
        "from sklearn.datasets import load_digits\n",
        "\n",
        "X, y =load_digits(return_X_y=True)\n",
        "X.shape, y.shape"
      ]
    },
    {
      "cell_type": "code",
      "execution_count": 9,
      "metadata": {
        "colab": {
          "base_uri": "https://localhost:8080/",
          "height": 282
        },
        "id": "MJpkX3Hhs8wN",
        "outputId": "a803cee5-3ed4-4f11-bef4-f6c6cadcfbb7"
      },
      "outputs": [
        {
          "data": {
            "text/plain": [
              "<matplotlib.image.AxesImage at 0x1dafc42d300>"
            ]
          },
          "execution_count": 9,
          "metadata": {},
          "output_type": "execute_result"
        },
        {
          "data": {
            "image/png": "[encoded data removed]",
            "text/plain": [
              "<Figure size 640x480 with 1 Axes>"
            ]
          },
          "metadata": {},
          "output_type": "display_data"
        }
      ],
      "source": [
        "import matplotlib.pyplot as plt\n",
        "reshaped_arr = X[0].reshape(8,8)\n",
        "plt.imshow(reshaped_arr )"
      ]
    },
    {
      "cell_type": "code",
      "execution_count": 10,
      "metadata": {
        "id": "bFeFXaU0uHw8"
      },
      "outputs": [],
      "source": [
        "from sklearn.model_selection import train_test_split\n",
        "X_train, X_test, y_train, y_test = train_test_split(X, y, test_size=0.15, random_state=42)"
      ]
    },
    {
      "cell_type": "code",
      "execution_count": 11,
      "metadata": {
        "id": "FVJpl4PQu2b9"
      },
      "outputs": [],
      "source": [
        "from sklearn.preprocessing import StandardScaler\n",
        "scaler = StandardScaler()\n",
        "scaler.fit(X_train)\n",
        "X_train = scaler.transform(X_train)\n",
        "X_test = scaler.transform(X_test)"
      ]
    },
    {
      "cell_type": "code",
      "execution_count": 12,
      "metadata": {
        "colab": {
          "base_uri": "https://localhost:8080/",
          "height": 213
        },
        "id": "dLb4hUKky9Dw",
        "outputId": "57c63829-64e2-438a-cdad-d7639c9e912b"
      },
      "outputs": [
        {
          "name": "stderr",
          "output_type": "stream",
          "text": [
            "c:\\Python310\\lib\\site-packages\\sklearn\\linear_model\\_logistic.py:458: ConvergenceWarning: lbfgs failed to converge (status=1):\n",
            "STOP: TOTAL NO. of ITERATIONS REACHED LIMIT.\n",
            "\n",
            "Increase the number of iterations (max_iter) or scale the data as shown in:\n",
            "    https://scikit-learn.org/stable/modules/preprocessing.html\n",
            "Please also refer to the documentation for alternative solver options:\n",
            "    https://scikit-learn.org/stable/modules/linear_model.html#logistic-regression\n",
            "  n_iter_i = _check_optimize_result(\n"
          ]
        },
        {
          "data": {
            "text/html": [
              "<style>#sk-container-id-1 {color: black;background-color: white;}#sk-container-id-1 pre{padding: 0;}#sk-container-id-1 div.sk-toggleable {background-color: white;}#sk-container-id-1 label.sk-toggleable__label {cursor: pointer;display: block;width: 100%;margin-bottom: 0;padding: 0.3em;box-sizing: border-box;text-align: center;}#sk-container-id-1 label.sk-toggleable__label-arrow:before {content: \"▸\";float: left;margin-right: 0.25em;color: #696969;}#sk-container-id-1 label.sk-toggleable__label-arrow:hover:before {color: black;}#sk-container-id-1 div.sk-estimator:hover label.sk-toggleable__label-arrow:before {color: black;}#sk-container-id-1 div.sk-toggleable__content {max-height: 0;max-width: 0;overflow: hidden;text-align: left;background-color: #f0f8ff;}#sk-container-id-1 div.sk-toggleable__content pre {margin: 0.2em;color: black;border-radius: 0.25em;background-color: #f0f8ff;}#sk-container-id-1 input.sk-toggleable__control:checked~div.sk-toggleable__content {max-height: 200px;max-width: 100%;overflow: auto;}#sk-container-id-1 input.sk-toggleable__control:checked~label.sk-toggleable__label-arrow:before {content: \"▾\";}#sk-container-id-1 div.sk-estimator input.sk-toggleable__control:checked~label.sk-toggleable__label {background-color: #d4ebff;}#sk-container-id-1 div.sk-label input.sk-toggleable__control:checked~label.sk-toggleable__label {background-color: #d4ebff;}#sk-container-id-1 input.sk-hidden--visually {border: 0;clip: rect(1px 1px 1px 1px);clip: rect(1px, 1px, 1px, 1px);height: 1px;margin: -1px;overflow: hidden;padding: 0;position: absolute;width: 1px;}#sk-container-id-1 div.sk-estimator {font-family: monospace;background-color: #f0f8ff;border: 1px dotted black;border-radius: 0.25em;box-sizing: border-box;margin-bottom: 0.5em;}#sk-container-id-1 div.sk-estimator:hover {background-color: #d4ebff;}#sk-container-id-1 div.sk-parallel-item::after {content: \"\";width: 100%;border-bottom: 1px solid gray;flex-grow: 1;}#sk-container-id-1 div.sk-label:hover label.sk-toggleable__label {background-color: #d4ebff;}#sk-container-id-1 div.sk-serial::before {content: \"\";position: absolute;border-left: 1px solid gray;box-sizing: border-box;top: 0;bottom: 0;left: 50%;z-index: 0;}#sk-container-id-1 div.sk-serial {display: flex;flex-direction: column;align-items: center;background-color: white;padding-right: 0.2em;padding-left: 0.2em;position: relative;}#sk-container-id-1 div.sk-item {position: relative;z-index: 1;}#sk-container-id-1 div.sk-parallel {display: flex;align-items: stretch;justify-content: center;background-color: white;position: relative;}#sk-container-id-1 div.sk-item::before, #sk-container-id-1 div.sk-parallel-item::before {content: \"\";position: absolute;border-left: 1px solid gray;box-sizing: border-box;top: 0;bottom: 0;left: 50%;z-index: -1;}#sk-container-id-1 div.sk-parallel-item {display: flex;flex-direction: column;z-index: 1;position: relative;background-color: white;}#sk-container-id-1 div.sk-parallel-item:first-child::after {align-self: flex-end;width: 50%;}#sk-container-id-1 div.sk-parallel-item:last-child::after {align-self: flex-start;width: 50%;}#sk-container-id-1 div.sk-parallel-item:only-child::after {width: 0;}#sk-container-id-1 div.sk-dashed-wrapped {border: 1px dashed gray;margin: 0 0.4em 0.5em 0.4em;box-sizing: border-box;padding-bottom: 0.4em;background-color: white;}#sk-container-id-1 div.sk-label label {font-family: monospace;font-weight: bold;display: inline-block;line-height: 1.2em;}#sk-container-id-1 div.sk-label-container {text-align: center;}#sk-container-id-1 div.sk-container {/* jupyter's `normalize.less` sets `[hidden] { display: none; }` but bootstrap.min.css set `[hidden] { display: none !important; }` so we also need the `!important` here to be able to override the default hidden behavior on the sphinx rendered scikit-learn.org. See: https://github.com/scikit-learn/scikit-learn/issues/21755 */display: inline-block !important;position: relative;}#sk-container-id-1 div.sk-text-repr-fallback {display: none;}</style><div id=\"sk-container-id-1\" class=\"sk-top-container\"><div class=\"sk-text-repr-fallback\"><pre>LogisticRegression()</pre><b>In a Jupyter environment, please rerun this cell to show the HTML representation or trust the notebook. <br />On GitHub, the HTML representation is unable to render, please try loading this page with nbviewer.org.</b></div><div class=\"sk-container\" hidden><div class=\"sk-item\"><div class=\"sk-estimator sk-toggleable\"><input class=\"sk-toggleable__control sk-hidden--visually\" id=\"sk-estimator-id-1\" type=\"checkbox\" checked><label for=\"sk-estimator-id-1\" class=\"sk-toggleable__label sk-toggleable__label-arrow\">LogisticRegression</label><div class=\"sk-toggleable__content\"><pre>LogisticRegression()</pre></div></div></div></div></div>"
            ],
            "text/plain": [
              "LogisticRegression()"
            ]
          },
          "execution_count": 12,
          "metadata": {},
          "output_type": "execute_result"
        }
      ],
      "source": [
        "from sklearn.linear_model import LogisticRegression\n",
        "clf = LogisticRegression(solver='lbfgs')\n",
        "clf.fit(X_train, y_train)\n"
      ]
    },
    {
      "cell_type": "code",
      "execution_count": 13,
      "metadata": {
        "colab": {
          "base_uri": "https://localhost:8080/"
        },
        "id": "vBbGpDuDzeON",
        "outputId": "9a76ac19-c087-46a4-d2ef-9ba63051e739"
      },
      "outputs": [
        {
          "data": {
            "text/plain": [
              "0.9629629629629629"
            ]
          },
          "execution_count": 13,
          "metadata": {},
          "output_type": "execute_result"
        }
      ],
      "source": [
        "from sklearn.metrics import confusion_matrix\n",
        "y_pred = clf.predict(X_test)\n",
        "conf_mat = confusion_matrix(y_test, y_pred)\n",
        "clf.score(X_test, y_test)"
      ]
    },
    {
      "cell_type": "code",
      "execution_count": 14,
      "metadata": {
        "colab": {
          "base_uri": "https://localhost:8080/"
        },
        "id": "lQUN90-I0N60",
        "outputId": "299ec36b-e5db-47db-f1e3-b1b450bc317d"
      },
      "outputs": [
        {
          "name": "stderr",
          "output_type": "stream",
          "text": [
            "c:\\Python310\\lib\\site-packages\\sklearn\\linear_model\\_logistic.py:458: ConvergenceWarning: lbfgs failed to converge (status=1):\n",
            "STOP: TOTAL NO. of ITERATIONS REACHED LIMIT.\n",
            "\n",
            "Increase the number of iterations (max_iter) or scale the data as shown in:\n",
            "    https://scikit-learn.org/stable/modules/preprocessing.html\n",
            "Please also refer to the documentation for alternative solver options:\n",
            "    https://scikit-learn.org/stable/modules/linear_model.html#logistic-regression\n",
            "  n_iter_i = _check_optimize_result(\n"
          ]
        },
        {
          "data": {
            "text/plain": [
              "0.9592592592592593"
            ]
          },
          "execution_count": 14,
          "metadata": {},
          "output_type": "execute_result"
        }
      ],
      "source": [
        "from sklearn.decomposition import PCA\n",
        "pca = PCA(0.95)\n",
        "pca.fit(X_train)\n",
        "\n",
        "X_train = pca.transform(X_train)\n",
        "X_test = pca.transform(X_test)\n",
        "\n",
        "clf = LogisticRegression(solver='lbfgs')\n",
        "clf.fit(X_train, y_train)\n",
        "clf.score(X_test, y_test)"
      ]
    },
    {
      "cell_type": "code",
      "execution_count": null,
      "metadata": {
        "colab": {
          "base_uri": "https://localhost:8080/"
        },
        "id": "9vOX9VCf4A0i",
        "outputId": "33106dce-646d-41e9-c24c-6f27d576cd7b"
      },
      "outputs": [
        {
          "name": "stderr",
          "output_type": "stream",
          "text": [
            "Cloning into 'fashion-mnist'...\n"
          ]
        }
      ],
      "source": [
        "!git clone https://github.com/zalandoresearch/fashion-mnist\n"
      ]
    },
    {
      "cell_type": "code",
      "execution_count": 15,
      "metadata": {
        "colab": {
          "base_uri": "https://localhost:8080/"
        },
        "id": "5QgHKukT6tsC",
        "outputId": "40dab29d-bd4f-4aa4-9126-13859b91d34e"
      },
      "outputs": [
        {
          "name": "stdout",
          "output_type": "stream",
          "text": [
            "c:\\Users\\giuli\\Documents\\GitHub\\ML_DL_LABS\\Lab1\\fashion-mnist\n"
          ]
        }
      ],
      "source": [
        "%cd fashion-mnist"
      ]
    },
    {
      "cell_type": "code",
      "execution_count": 16,
      "metadata": {
        "id": "zD7V5tap4zHl"
      },
      "outputs": [],
      "source": [
        "from utils import mnist_reader\n",
        "X_train, y_train = mnist_reader.load_mnist('data/fashion', kind='train')\n",
        "X_test, y_test = mnist_reader.load_mnist('data/fashion', kind='t10k')"
      ]
    },
    {
      "cell_type": "code",
      "execution_count": 17,
      "metadata": {
        "colab": {
          "base_uri": "https://localhost:8080/",
          "height": 282
        },
        "id": "UxH4VsPT6Emo",
        "outputId": "3024d61b-f349-44a3-c7ce-d98f1cce6386"
      },
      "outputs": [
        {
          "data": {
            "text/plain": [
              "<matplotlib.image.AxesImage at 0x1dafe824550>"
            ]
          },
          "execution_count": 17,
          "metadata": {},
          "output_type": "execute_result"
        },
        {
          "data": {
            "image/png": "[encoded data removed]",
            "text/plain": [
              "<Figure size 640x480 with 1 Axes>"
            ]
          },
          "metadata": {},
          "output_type": "display_data"
        }
      ],
      "source": [
        "first_class = X_train[y_train==0,:] #select the first class\n",
        "std = StandardScaler() \n",
        "first_class = std.fit_transform(first_class)#standardize data\n",
        "plt.imshow(first_class[0,:].reshape(28,28)) #show a sample image\n",
        "\n"
      ]
    },
    {
      "cell_type": "code",
      "execution_count": 18,
      "metadata": {
        "colab": {
          "base_uri": "https://localhost:8080/",
          "height": 282
        },
        "id": "0VleiYyW8m7l",
        "outputId": "a996e3b4-da5f-4156-c8fd-5d6e372a7f50"
      },
      "outputs": [
        {
          "data": {
            "text/plain": [
              "<matplotlib.image.AxesImage at 0x1dafe8a52a0>"
            ]
          },
          "execution_count": 18,
          "metadata": {},
          "output_type": "execute_result"
        },
        {
          "data": {
            "image/png": "[encoded data removed]",
            "text/plain": [
              "<Figure size 640x480 with 1 Axes>"
            ]
          },
          "metadata": {},
          "output_type": "display_data"
        }
      ],
      "source": [
        "pca = PCA(n_components=6)\n",
        "first_class_projection = pca.fit_transform(first_class) #project data onto the subspace generated by the first 6 components\n",
        "reprojected_data=pca.inverse_transform(first_class_projection) #inverse the projection back to the original n-dimensional space\n",
        "plt.imshow(reprojected_data[0,:].reshape(28,28)) #see what happened to the same image\n",
        "\n"
      ]
    },
    {
      "cell_type": "code",
      "execution_count": 19,
      "metadata": {
        "colab": {
          "base_uri": "https://localhost:8080/",
          "height": 282
        },
        "id": "WT7ffLQS97DV",
        "outputId": "3dbcc973-22e2-4c76-bd64-7de7d1b0f474"
      },
      "outputs": [
        {
          "data": {
            "text/plain": [
              "<matplotlib.image.AxesImage at 0x1da8996a230>"
            ]
          },
          "execution_count": 19,
          "metadata": {},
          "output_type": "execute_result"
        },
        {
          "data": {
            "image/png": "[encoded data removed]",
            "text/plain": [
              "<Figure size 640x480 with 1 Axes>"
            ]
          },
          "metadata": {},
          "output_type": "display_data"
        }
      ],
      "source": [
        "import numpy as np\n",
        "pca_full = PCA()\n",
        "pca_full.fit(first_class) #fit the pca with all principal components\n",
        "V = pca_full.components_[-6:, :] #select the LAST 6 principal components (NB the matrix is transposed)\n",
        "X_t = np.matmul(first_class, np.transpose(V)) #project data in the subspace generated by the last 6 PC\n",
        "X_t_t = np.matmul(X_t, V) #project back the data\n",
        "plt.imshow(X_t_t[0,:].reshape(28,28))#see what happened"
      ]
    },
    {
      "attachments": {},
      "cell_type": "markdown",
      "metadata": {
        "id": "uJJAabAlOJG4"
      },
      "source": [
        "## Pythorch"
      ]
    },
    {
      "cell_type": "code",
      "execution_count": 20,
      "metadata": {
        "id": "4KVqd4oZOSb6"
      },
      "outputs": [],
      "source": [
        "import torch"
      ]
    },
    {
      "cell_type": "code",
      "execution_count": 21,
      "metadata": {
        "id": "IRtoTX5EPMi-"
      },
      "outputs": [
        {
          "data": {
            "text/plain": [
              "tensor([[[[2.5179e-01, 7.3955e-01, 4.4180e-03,  ..., 8.8516e-01,\n",
              "           2.6883e-01, 9.1288e-01],\n",
              "          [2.8396e-01, 4.3704e-01, 7.0790e-01,  ..., 9.4787e-01,\n",
              "           9.9936e-01, 5.2307e-01],\n",
              "          [1.1135e-01, 1.3763e-01, 7.0283e-01,  ..., 1.6898e-01,\n",
              "           2.9250e-01, 9.3204e-02],\n",
              "          ...,\n",
              "          [4.6387e-01, 4.1001e-01, 2.3150e-01,  ..., 1.5323e-01,\n",
              "           7.9013e-01, 4.8075e-01],\n",
              "          [2.8374e-03, 3.9629e-01, 2.6447e-01,  ..., 1.8602e-01,\n",
              "           8.6294e-01, 6.7948e-02],\n",
              "          [3.5876e-01, 8.9326e-01, 2.2680e-02,  ..., 4.0436e-01,\n",
              "           9.6249e-01, 8.9107e-01]],\n",
              "\n",
              "         [[2.3315e-01, 3.9424e-01, 5.4754e-01,  ..., 5.2939e-01,\n",
              "           3.9981e-01, 3.0791e-01],\n",
              "          [3.4677e-01, 7.9803e-01, 1.4462e-01,  ..., 4.2287e-01,\n",
              "           1.9868e-01, 1.7126e-01],\n",
              "          [6.2098e-01, 3.1698e-01, 9.8538e-01,  ..., 3.5857e-01,\n",
              "           2.0406e-01, 5.1277e-01],\n",
              "          ...,\n",
              "          [1.6354e-01, 5.5725e-01, 4.7352e-01,  ..., 7.0598e-01,\n",
              "           3.4887e-01, 8.0850e-01],\n",
              "          [2.3079e-01, 7.3114e-01, 6.4944e-01,  ..., 1.3006e-01,\n",
              "           5.9180e-01, 4.2063e-01],\n",
              "          [4.2272e-01, 8.5947e-01, 7.3874e-04,  ..., 3.3315e-01,\n",
              "           3.9076e-01, 8.5358e-01]],\n",
              "\n",
              "         [[1.3907e-02, 9.5340e-01, 9.1271e-01,  ..., 1.6679e-01,\n",
              "           7.5898e-01, 7.6815e-02],\n",
              "          [1.6644e-01, 2.9478e-01, 3.0412e-02,  ..., 1.5730e-01,\n",
              "           2.2827e-02, 2.0375e-01],\n",
              "          [9.3032e-01, 3.7797e-01, 3.1110e-01,  ..., 7.9302e-01,\n",
              "           5.6524e-01, 4.1918e-01],\n",
              "          ...,\n",
              "          [4.9386e-01, 8.3764e-01, 3.6111e-01,  ..., 5.9359e-01,\n",
              "           8.0152e-01, 2.2416e-02],\n",
              "          [2.7006e-01, 2.3337e-01, 1.2297e-01,  ..., 6.0678e-01,\n",
              "           6.3692e-02, 6.7655e-01],\n",
              "          [5.6483e-02, 7.0451e-01, 1.8337e-01,  ..., 9.6616e-01,\n",
              "           5.6055e-01, 4.1878e-01]],\n",
              "\n",
              "         ...,\n",
              "\n",
              "         [[4.1692e-01, 1.1160e-01, 8.8821e-01,  ..., 5.6818e-01,\n",
              "           3.7950e-01, 5.4455e-01],\n",
              "          [1.6454e-01, 3.4175e-02, 5.6914e-02,  ..., 9.7947e-01,\n",
              "           1.1196e-01, 9.0935e-01],\n",
              "          [5.1474e-02, 9.8244e-01, 9.9653e-01,  ..., 5.2328e-01,\n",
              "           5.8462e-01, 9.5360e-02],\n",
              "          ...,\n",
              "          [3.5269e-01, 6.7951e-01, 7.4816e-01,  ..., 6.3250e-01,\n",
              "           5.7022e-02, 6.8699e-01],\n",
              "          [4.1714e-01, 1.3647e-01, 8.1008e-01,  ..., 2.6801e-01,\n",
              "           4.9342e-02, 3.5038e-01],\n",
              "          [3.8967e-01, 7.6660e-02, 9.4427e-01,  ..., 7.1507e-01,\n",
              "           1.6833e-01, 3.5976e-01]],\n",
              "\n",
              "         [[2.6861e-01, 4.5656e-01, 2.0110e-01,  ..., 6.9730e-01,\n",
              "           5.2670e-01, 9.8678e-01],\n",
              "          [7.0184e-01, 2.9879e-01, 3.0686e-01,  ..., 2.6680e-01,\n",
              "           6.9578e-01, 1.6055e-01],\n",
              "          [6.3973e-01, 6.8311e-01, 1.3777e-01,  ..., 8.5861e-01,\n",
              "           3.7634e-01, 6.1589e-01],\n",
              "          ...,\n",
              "          [4.0131e-01, 9.9662e-01, 1.6212e-01,  ..., 9.5575e-01,\n",
              "           1.4689e-01, 2.3566e-01],\n",
              "          [9.5928e-01, 1.8616e-01, 8.4533e-01,  ..., 9.8913e-01,\n",
              "           5.5393e-01, 5.7088e-01],\n",
              "          [4.5779e-02, 7.9650e-01, 9.1348e-02,  ..., 3.0088e-02,\n",
              "           3.6622e-01, 2.2220e-01]],\n",
              "\n",
              "         [[1.9453e-01, 1.4654e-01, 1.3477e-01,  ..., 6.6663e-01,\n",
              "           8.2233e-01, 1.7448e-02],\n",
              "          [9.3669e-01, 4.4296e-01, 9.5704e-01,  ..., 3.7446e-01,\n",
              "           6.6002e-01, 4.0226e-01],\n",
              "          [8.7399e-02, 1.3460e-01, 6.3686e-01,  ..., 7.9240e-01,\n",
              "           7.7071e-01, 2.0971e-01],\n",
              "          ...,\n",
              "          [2.8532e-01, 1.8294e-01, 4.3973e-02,  ..., 7.7496e-01,\n",
              "           7.9957e-02, 7.8569e-01],\n",
              "          [4.9286e-02, 9.5260e-01, 9.9160e-01,  ..., 1.5072e-01,\n",
              "           2.3036e-01, 7.3499e-01],\n",
              "          [7.3648e-01, 3.4420e-01, 4.8054e-01,  ..., 5.6538e-01,\n",
              "           3.5369e-01, 5.5729e-01]]],\n",
              "\n",
              "\n",
              "        [[[2.8829e-01, 5.6500e-01, 8.7317e-02,  ..., 9.7990e-01,\n",
              "           8.1479e-01, 6.8280e-01],\n",
              "          [9.9784e-01, 4.7317e-01, 5.4133e-01,  ..., 4.0593e-01,\n",
              "           7.0991e-01, 6.3741e-02],\n",
              "          [6.8420e-01, 9.6823e-01, 8.1858e-01,  ..., 7.3206e-01,\n",
              "           6.7444e-01, 8.3041e-01],\n",
              "          ...,\n",
              "          [8.7125e-01, 2.1460e-01, 6.3545e-01,  ..., 4.3706e-01,\n",
              "           5.4133e-01, 8.9153e-02],\n",
              "          [8.5449e-01, 3.3216e-01, 8.8216e-01,  ..., 1.3114e-01,\n",
              "           8.6722e-02, 3.2070e-01],\n",
              "          [5.8077e-01, 8.3738e-01, 4.9451e-01,  ..., 7.5893e-01,\n",
              "           2.1517e-01, 3.0936e-01]],\n",
              "\n",
              "         [[8.7968e-01, 9.5615e-01, 9.2039e-01,  ..., 6.0060e-01,\n",
              "           6.9948e-01, 8.0526e-01],\n",
              "          [8.7238e-01, 4.4411e-01, 4.9689e-01,  ..., 4.6664e-01,\n",
              "           9.9443e-01, 2.8091e-01],\n",
              "          [1.9081e-01, 9.0339e-01, 7.0834e-01,  ..., 2.5048e-01,\n",
              "           2.8801e-01, 4.3234e-01],\n",
              "          ...,\n",
              "          [7.8647e-01, 3.2787e-01, 1.6631e-01,  ..., 5.5323e-01,\n",
              "           4.9772e-01, 4.7265e-01],\n",
              "          [3.0273e-01, 2.0798e-01, 5.4383e-02,  ..., 2.7843e-01,\n",
              "           6.9932e-02, 7.1689e-01],\n",
              "          [4.3501e-01, 7.1739e-01, 6.5285e-01,  ..., 7.7317e-01,\n",
              "           3.5483e-01, 9.5918e-01]],\n",
              "\n",
              "         [[5.1113e-01, 1.1127e-01, 9.0368e-01,  ..., 4.8307e-02,\n",
              "           7.3889e-01, 5.7247e-01],\n",
              "          [1.8864e-01, 3.1916e-01, 9.5957e-01,  ..., 4.6272e-02,\n",
              "           6.7434e-01, 8.6891e-01],\n",
              "          [1.8124e-01, 6.9709e-01, 4.5774e-01,  ..., 6.7567e-01,\n",
              "           7.1154e-01, 1.9060e-01],\n",
              "          ...,\n",
              "          [8.5784e-01, 5.8169e-01, 8.1226e-01,  ..., 7.6325e-01,\n",
              "           5.2042e-01, 2.2091e-01],\n",
              "          [9.5584e-01, 6.6247e-01, 8.8887e-01,  ..., 6.0884e-01,\n",
              "           4.2349e-01, 1.6379e-01],\n",
              "          [8.3047e-01, 3.5714e-01, 7.6243e-01,  ..., 9.8714e-01,\n",
              "           3.0395e-01, 1.4636e-01]],\n",
              "\n",
              "         ...,\n",
              "\n",
              "         [[2.1278e-01, 9.3954e-01, 3.5802e-02,  ..., 5.5981e-01,\n",
              "           1.7498e-01, 5.1803e-01],\n",
              "          [2.0316e-01, 2.1235e-01, 3.0543e-01,  ..., 5.1498e-01,\n",
              "           8.5706e-01, 7.1402e-01],\n",
              "          [3.5468e-01, 7.9199e-01, 8.0514e-01,  ..., 6.3760e-01,\n",
              "           4.3785e-01, 7.2711e-01],\n",
              "          ...,\n",
              "          [2.8397e-01, 7.6858e-01, 7.4847e-01,  ..., 5.6695e-01,\n",
              "           7.0063e-01, 8.0474e-01],\n",
              "          [1.8090e-01, 6.0220e-01, 5.7559e-01,  ..., 1.3334e-01,\n",
              "           6.1042e-01, 8.9564e-01],\n",
              "          [7.8544e-01, 8.8784e-01, 2.0624e-01,  ..., 6.9786e-01,\n",
              "           9.1743e-01, 1.4334e-01]],\n",
              "\n",
              "         [[1.9956e-01, 9.4802e-01, 1.8226e-01,  ..., 9.5087e-01,\n",
              "           9.8704e-01, 5.9434e-01],\n",
              "          [7.2106e-01, 4.1625e-01, 1.7379e-01,  ..., 7.0308e-01,\n",
              "           7.5604e-01, 9.0858e-02],\n",
              "          [2.9014e-01, 2.6188e-01, 9.6905e-01,  ..., 3.9033e-01,\n",
              "           2.1691e-01, 6.7588e-01],\n",
              "          ...,\n",
              "          [6.9551e-01, 7.1232e-01, 9.5159e-01,  ..., 6.6386e-01,\n",
              "           3.5069e-02, 2.9352e-01],\n",
              "          [9.0984e-02, 7.3088e-01, 8.5633e-01,  ..., 5.4186e-01,\n",
              "           8.0571e-01, 6.3508e-01],\n",
              "          [2.4276e-01, 7.9107e-01, 5.4213e-01,  ..., 8.9146e-01,\n",
              "           4.7767e-01, 3.5129e-01]],\n",
              "\n",
              "         [[2.5590e-01, 1.3510e-01, 9.8139e-01,  ..., 7.2580e-01,\n",
              "           7.9912e-01, 9.9718e-01],\n",
              "          [1.5448e-01, 8.2996e-02, 6.5236e-02,  ..., 6.4956e-01,\n",
              "           1.3960e-01, 4.4557e-02],\n",
              "          [9.1482e-01, 9.3513e-01, 4.7969e-02,  ..., 1.1563e-01,\n",
              "           5.0239e-02, 3.9126e-01],\n",
              "          ...,\n",
              "          [7.6599e-01, 8.9928e-01, 7.9915e-01,  ..., 8.0294e-02,\n",
              "           8.4578e-01, 1.0097e-01],\n",
              "          [3.5152e-01, 2.2271e-02, 5.8662e-01,  ..., 9.5791e-01,\n",
              "           6.9543e-01, 7.0967e-01],\n",
              "          [3.3608e-01, 6.5545e-01, 1.2940e-01,  ..., 8.2232e-01,\n",
              "           8.3086e-01, 9.0020e-01]]],\n",
              "\n",
              "\n",
              "        [[[7.2841e-02, 5.2181e-01, 4.6725e-01,  ..., 9.3633e-01,\n",
              "           1.6911e-01, 4.8330e-01],\n",
              "          [6.5520e-02, 1.4049e-01, 2.1159e-01,  ..., 8.4129e-01,\n",
              "           6.6777e-01, 9.3743e-02],\n",
              "          [2.7696e-01, 8.7604e-01, 3.9993e-02,  ..., 6.6445e-01,\n",
              "           6.5325e-01, 4.2656e-01],\n",
              "          ...,\n",
              "          [8.6866e-01, 6.8671e-01, 5.1656e-01,  ..., 6.0098e-01,\n",
              "           3.0979e-01, 8.3162e-01],\n",
              "          [1.4920e-01, 5.6246e-01, 3.1217e-01,  ..., 8.2848e-01,\n",
              "           7.6395e-01, 8.1748e-03],\n",
              "          [5.4635e-01, 4.0411e-01, 1.4342e-01,  ..., 8.6829e-01,\n",
              "           6.5549e-01, 1.4166e-01]],\n",
              "\n",
              "         [[9.5011e-02, 7.1678e-01, 1.4516e-01,  ..., 8.9952e-02,\n",
              "           5.5642e-01, 3.1444e-01],\n",
              "          [2.8122e-01, 3.0184e-01, 6.2024e-01,  ..., 2.3601e-01,\n",
              "           3.1911e-01, 2.7394e-01],\n",
              "          [9.8094e-01, 6.0245e-01, 5.9987e-01,  ..., 3.9131e-01,\n",
              "           2.2016e-01, 1.9169e-01],\n",
              "          ...,\n",
              "          [5.6003e-01, 6.5786e-01, 4.7432e-01,  ..., 8.2198e-01,\n",
              "           5.2965e-02, 4.1614e-02],\n",
              "          [6.7058e-01, 5.3138e-01, 5.1879e-01,  ..., 9.4103e-01,\n",
              "           5.5537e-01, 3.0124e-01],\n",
              "          [5.7488e-01, 7.9683e-01, 8.9072e-01,  ..., 5.0290e-01,\n",
              "           5.3982e-01, 9.0022e-01]],\n",
              "\n",
              "         [[3.5550e-01, 4.7034e-01, 6.5307e-02,  ..., 3.1635e-03,\n",
              "           1.5830e-01, 5.9525e-01],\n",
              "          [1.4336e-02, 8.6150e-01, 1.5207e-01,  ..., 9.9686e-01,\n",
              "           1.8065e-01, 5.7926e-01],\n",
              "          [5.7149e-01, 8.5454e-01, 1.0643e-02,  ..., 6.7131e-01,\n",
              "           4.9403e-01, 5.1300e-01],\n",
              "          ...,\n",
              "          [8.2678e-01, 9.1374e-01, 4.7818e-01,  ..., 5.5855e-01,\n",
              "           4.0265e-01, 3.6249e-01],\n",
              "          [4.5989e-01, 1.3396e-01, 1.8067e-01,  ..., 3.7942e-01,\n",
              "           1.3719e-01, 5.1621e-01],\n",
              "          [4.7948e-02, 1.3052e-01, 6.1554e-01,  ..., 8.9950e-01,\n",
              "           3.1271e-01, 5.5817e-02]],\n",
              "\n",
              "         ...,\n",
              "\n",
              "         [[2.6400e-01, 3.9864e-01, 9.9829e-01,  ..., 8.1166e-01,\n",
              "           2.7878e-01, 4.1969e-01],\n",
              "          [7.4507e-01, 9.8438e-01, 3.2784e-01,  ..., 9.2241e-02,\n",
              "           2.6733e-01, 8.9867e-01],\n",
              "          [7.2208e-01, 9.0226e-01, 3.4969e-01,  ..., 2.0805e-01,\n",
              "           6.5537e-01, 5.4981e-01],\n",
              "          ...,\n",
              "          [9.8990e-01, 5.0550e-01, 7.0823e-01,  ..., 7.6947e-01,\n",
              "           3.2198e-01, 7.7513e-01],\n",
              "          [7.8174e-01, 3.6066e-01, 3.7387e-01,  ..., 4.6953e-01,\n",
              "           1.5595e-01, 1.2544e-01],\n",
              "          [5.8116e-01, 1.5790e-01, 4.4089e-01,  ..., 3.9496e-01,\n",
              "           3.1199e-01, 6.3525e-01]],\n",
              "\n",
              "         [[3.7647e-01, 3.9432e-01, 9.8744e-01,  ..., 8.4207e-01,\n",
              "           9.9882e-01, 7.7993e-03],\n",
              "          [9.2221e-01, 7.3579e-01, 5.3091e-01,  ..., 2.6213e-01,\n",
              "           4.7649e-01, 3.7885e-01],\n",
              "          [3.6429e-01, 1.9812e-01, 5.0988e-01,  ..., 6.7014e-01,\n",
              "           6.0553e-01, 4.3661e-01],\n",
              "          ...,\n",
              "          [4.9894e-01, 7.0681e-01, 5.8113e-01,  ..., 6.0629e-01,\n",
              "           1.8399e-01, 8.3441e-01],\n",
              "          [9.1026e-01, 5.2331e-01, 3.5042e-01,  ..., 6.8053e-01,\n",
              "           2.1828e-01, 9.3767e-01],\n",
              "          [7.0978e-01, 5.3377e-02, 5.3713e-01,  ..., 4.6615e-01,\n",
              "           2.5836e-01, 3.2159e-01]],\n",
              "\n",
              "         [[2.3975e-02, 2.2200e-01, 8.1486e-01,  ..., 4.2293e-01,\n",
              "           8.4589e-01, 2.5626e-01],\n",
              "          [3.6803e-02, 1.9334e-01, 7.0804e-04,  ..., 1.8179e-01,\n",
              "           4.0809e-01, 1.2575e-01],\n",
              "          [5.0244e-01, 5.6102e-01, 3.5812e-01,  ..., 8.7899e-01,\n",
              "           8.4961e-01, 3.3392e-02],\n",
              "          ...,\n",
              "          [4.5693e-01, 7.2730e-01, 2.4786e-01,  ..., 2.5966e-01,\n",
              "           3.6819e-01, 2.8962e-01],\n",
              "          [1.5360e-01, 7.1393e-01, 2.1491e-01,  ..., 3.8170e-01,\n",
              "           1.0763e-01, 4.9248e-01],\n",
              "          [1.0777e-01, 3.0165e-01, 4.2719e-01,  ..., 4.7013e-01,\n",
              "           9.4338e-01, 7.2908e-01]]],\n",
              "\n",
              "\n",
              "        ...,\n",
              "\n",
              "\n",
              "        [[[1.7345e-01, 7.5617e-01, 4.1548e-01,  ..., 2.4459e-02,\n",
              "           6.5757e-01, 5.8888e-01],\n",
              "          [8.6751e-01, 5.1220e-01, 1.4939e-01,  ..., 8.4073e-01,\n",
              "           5.6423e-01, 2.7278e-02],\n",
              "          [2.7025e-02, 7.1195e-01, 4.5555e-01,  ..., 5.6012e-02,\n",
              "           6.4335e-02, 5.7264e-01],\n",
              "          ...,\n",
              "          [1.1068e-01, 5.3113e-01, 6.3685e-01,  ..., 9.3233e-01,\n",
              "           4.8161e-01, 6.6217e-01],\n",
              "          [2.0252e-01, 7.0634e-01, 5.5161e-01,  ..., 5.0556e-01,\n",
              "           8.8116e-01, 9.0855e-01],\n",
              "          [2.4123e-02, 9.3731e-01, 1.4246e-01,  ..., 9.8027e-01,\n",
              "           4.5548e-01, 1.8969e-01]],\n",
              "\n",
              "         [[3.9375e-01, 3.9096e-01, 3.9796e-02,  ..., 8.5567e-01,\n",
              "           5.4471e-01, 8.1337e-02],\n",
              "          [2.4679e-01, 6.1477e-01, 2.8010e-01,  ..., 7.9679e-01,\n",
              "           1.9251e-02, 6.9958e-01],\n",
              "          [1.4469e-01, 7.6774e-01, 2.1598e-01,  ..., 1.1626e-01,\n",
              "           5.3623e-01, 2.1722e-01],\n",
              "          ...,\n",
              "          [2.5441e-02, 3.3391e-01, 2.1956e-01,  ..., 8.8172e-01,\n",
              "           7.8774e-01, 6.4248e-01],\n",
              "          [1.0942e-01, 8.3453e-01, 6.7976e-01,  ..., 9.7987e-02,\n",
              "           9.8836e-01, 7.6099e-01],\n",
              "          [3.8057e-01, 3.7987e-01, 2.5179e-01,  ..., 5.2253e-01,\n",
              "           4.9016e-01, 7.9566e-01]],\n",
              "\n",
              "         [[8.4391e-01, 1.8576e-01, 9.9215e-01,  ..., 7.2910e-01,\n",
              "           2.1744e-01, 3.3465e-01],\n",
              "          [3.8559e-01, 5.8490e-01, 8.3045e-01,  ..., 9.0868e-01,\n",
              "           6.5063e-01, 3.8420e-01],\n",
              "          [7.4281e-01, 5.1102e-01, 2.7705e-01,  ..., 2.4017e-01,\n",
              "           8.6293e-01, 4.7455e-01],\n",
              "          ...,\n",
              "          [2.9350e-02, 7.1355e-01, 5.7046e-02,  ..., 7.6938e-01,\n",
              "           2.8630e-01, 9.6845e-01],\n",
              "          [4.2299e-01, 9.9757e-01, 3.5367e-01,  ..., 8.6856e-01,\n",
              "           3.6265e-02, 3.6532e-01],\n",
              "          [8.3620e-01, 6.7361e-02, 6.6144e-01,  ..., 5.0156e-01,\n",
              "           7.6779e-01, 3.7550e-01]],\n",
              "\n",
              "         ...,\n",
              "\n",
              "         [[7.6508e-01, 7.3893e-01, 6.4228e-01,  ..., 7.4642e-02,\n",
              "           2.9196e-01, 8.1520e-01],\n",
              "          [7.0452e-01, 3.3809e-01, 8.2543e-01,  ..., 8.8545e-01,\n",
              "           4.2571e-01, 3.0909e-01],\n",
              "          [9.3585e-01, 1.2087e-01, 6.4890e-02,  ..., 6.0197e-01,\n",
              "           5.5164e-01, 2.4215e-01],\n",
              "          ...,\n",
              "          [4.3072e-01, 8.8129e-01, 6.6192e-01,  ..., 3.5996e-01,\n",
              "           5.8568e-02, 6.3336e-01],\n",
              "          [3.2170e-01, 4.2106e-01, 2.5738e-01,  ..., 1.0240e-01,\n",
              "           9.4342e-01, 1.0072e-01],\n",
              "          [5.0208e-01, 5.3547e-01, 5.4788e-01,  ..., 7.5601e-01,\n",
              "           1.8868e-01, 3.5599e-01]],\n",
              "\n",
              "         [[9.4218e-01, 3.2584e-01, 4.1473e-01,  ..., 9.3478e-01,\n",
              "           4.8198e-01, 8.6228e-02],\n",
              "          [2.5266e-01, 4.9549e-01, 3.6811e-01,  ..., 4.3413e-01,\n",
              "           1.9928e-01, 9.1480e-01],\n",
              "          [3.4039e-01, 6.4890e-01, 3.8938e-01,  ..., 4.9370e-01,\n",
              "           3.5908e-01, 2.0435e-01],\n",
              "          ...,\n",
              "          [5.5555e-01, 2.8479e-01, 7.7193e-01,  ..., 5.4899e-01,\n",
              "           3.5155e-01, 1.1392e-01],\n",
              "          [6.9710e-01, 6.9151e-01, 2.4701e-01,  ..., 1.2557e-01,\n",
              "           1.7485e-01, 9.9889e-01],\n",
              "          [7.1500e-02, 8.1306e-01, 5.2147e-01,  ..., 8.5206e-01,\n",
              "           2.4910e-01, 9.9541e-01]],\n",
              "\n",
              "         [[5.1766e-01, 5.7268e-02, 3.3393e-01,  ..., 2.5151e-01,\n",
              "           6.0719e-01, 3.2909e-01],\n",
              "          [7.4673e-01, 5.3795e-01, 6.8585e-01,  ..., 3.3598e-01,\n",
              "           2.1370e-02, 6.0429e-01],\n",
              "          [9.4712e-01, 9.9902e-01, 7.2646e-01,  ..., 4.7084e-01,\n",
              "           8.1481e-01, 4.9100e-01],\n",
              "          ...,\n",
              "          [2.0990e-01, 7.5141e-01, 1.4556e-01,  ..., 1.7963e-01,\n",
              "           4.9835e-01, 1.6711e-01],\n",
              "          [7.1233e-01, 9.4297e-01, 5.5876e-01,  ..., 9.1296e-01,\n",
              "           1.1948e-01, 7.5250e-01],\n",
              "          [9.5273e-01, 2.1393e-01, 1.7537e-01,  ..., 3.6676e-01,\n",
              "           8.6338e-01, 4.0775e-01]]],\n",
              "\n",
              "\n",
              "        [[[3.5118e-01, 2.5535e-01, 5.2922e-01,  ..., 2.8049e-01,\n",
              "           5.6549e-01, 7.4184e-01],\n",
              "          [3.8514e-01, 2.1705e-01, 1.3029e-01,  ..., 2.2036e-01,\n",
              "           7.7323e-01, 7.3985e-02],\n",
              "          [8.6316e-01, 9.6861e-01, 7.1072e-01,  ..., 2.8930e-01,\n",
              "           6.0337e-01, 8.1180e-01],\n",
              "          ...,\n",
              "          [3.1172e-02, 4.8825e-02, 9.4742e-01,  ..., 1.3502e-01,\n",
              "           5.4177e-01, 9.4837e-01],\n",
              "          [5.0341e-01, 4.8974e-01, 9.7872e-01,  ..., 2.5069e-01,\n",
              "           9.2531e-01, 4.9539e-01],\n",
              "          [9.9750e-01, 2.6026e-01, 8.4822e-01,  ..., 4.2586e-02,\n",
              "           1.5303e-02, 9.0814e-01]],\n",
              "\n",
              "         [[8.6794e-01, 8.2406e-01, 2.2132e-01,  ..., 9.7320e-01,\n",
              "           6.6053e-01, 1.2031e-01],\n",
              "          [3.8325e-01, 7.3253e-01, 7.8600e-01,  ..., 4.1153e-01,\n",
              "           4.0442e-01, 6.8073e-01],\n",
              "          [8.8736e-01, 6.4071e-01, 5.9259e-01,  ..., 4.3098e-01,\n",
              "           9.7509e-02, 4.7876e-01],\n",
              "          ...,\n",
              "          [5.7744e-01, 8.1607e-02, 1.4363e-01,  ..., 4.3210e-01,\n",
              "           3.7788e-01, 7.0157e-02],\n",
              "          [9.7364e-01, 1.4419e-01, 7.7726e-01,  ..., 5.7169e-02,\n",
              "           5.7147e-02, 8.4705e-02],\n",
              "          [6.5531e-01, 2.4807e-01, 2.5455e-01,  ..., 2.5907e-01,\n",
              "           7.9480e-01, 8.1741e-01]],\n",
              "\n",
              "         [[8.0119e-01, 3.9151e-01, 7.9910e-01,  ..., 6.4986e-01,\n",
              "           8.8183e-01, 6.2853e-01],\n",
              "          [6.5931e-01, 8.1712e-01, 7.7073e-02,  ..., 9.2970e-01,\n",
              "           9.4434e-01, 7.7115e-01],\n",
              "          [6.9971e-01, 1.4512e-01, 7.0466e-01,  ..., 4.7415e-01,\n",
              "           9.0579e-01, 6.2658e-01],\n",
              "          ...,\n",
              "          [2.0320e-01, 6.0537e-01, 2.9879e-01,  ..., 5.7457e-01,\n",
              "           2.1759e-01, 2.1449e-01],\n",
              "          [4.8649e-01, 5.5671e-01, 3.1868e-01,  ..., 5.5140e-01,\n",
              "           8.8014e-01, 2.4550e-02],\n",
              "          [7.9309e-01, 6.4054e-01, 4.3792e-01,  ..., 8.5214e-01,\n",
              "           3.8497e-01, 3.3887e-02]],\n",
              "\n",
              "         ...,\n",
              "\n",
              "         [[7.9744e-01, 6.7937e-01, 3.7749e-01,  ..., 3.0782e-02,\n",
              "           6.0270e-01, 3.6765e-01],\n",
              "          [8.3964e-01, 3.6019e-01, 6.1331e-01,  ..., 6.3878e-01,\n",
              "           5.0740e-01, 6.9044e-01],\n",
              "          [3.7327e-01, 6.0476e-01, 3.6182e-01,  ..., 7.9967e-01,\n",
              "           4.0025e-01, 2.7628e-01],\n",
              "          ...,\n",
              "          [4.7276e-01, 5.3692e-01, 6.6123e-02,  ..., 8.7934e-01,\n",
              "           3.4661e-01, 8.5771e-01],\n",
              "          [3.3812e-01, 4.2092e-01, 4.3514e-01,  ..., 9.9374e-01,\n",
              "           4.0774e-01, 7.2261e-01],\n",
              "          [4.6027e-01, 7.2320e-01, 4.8010e-01,  ..., 8.6221e-02,\n",
              "           3.4402e-02, 1.5714e-01]],\n",
              "\n",
              "         [[9.8374e-03, 4.9184e-01, 1.4385e-01,  ..., 2.6813e-02,\n",
              "           8.2597e-02, 2.0373e-01],\n",
              "          [6.9190e-01, 6.1592e-01, 9.4826e-01,  ..., 1.7747e-01,\n",
              "           6.9172e-01, 5.9672e-01],\n",
              "          [1.4120e-01, 9.0819e-01, 8.2395e-01,  ..., 6.6051e-01,\n",
              "           1.6267e-01, 4.8081e-01],\n",
              "          ...,\n",
              "          [6.6362e-01, 5.5925e-01, 2.3471e-01,  ..., 8.8905e-01,\n",
              "           4.4671e-01, 3.6079e-01],\n",
              "          [7.7444e-01, 4.5987e-01, 7.4962e-02,  ..., 5.0337e-01,\n",
              "           3.2370e-01, 4.8669e-01],\n",
              "          [2.0646e-01, 5.5866e-01, 6.9240e-01,  ..., 8.7267e-01,\n",
              "           4.0603e-01, 8.4885e-01]],\n",
              "\n",
              "         [[7.0702e-01, 7.2735e-01, 5.0929e-01,  ..., 3.8009e-01,\n",
              "           8.7806e-01, 5.6711e-01],\n",
              "          [4.5784e-01, 4.5708e-01, 8.4301e-01,  ..., 1.9335e-01,\n",
              "           8.8131e-01, 6.9971e-01],\n",
              "          [4.6735e-01, 7.8974e-01, 3.4796e-01,  ..., 6.8243e-01,\n",
              "           5.2853e-01, 7.4017e-01],\n",
              "          ...,\n",
              "          [2.8539e-02, 5.2116e-01, 7.5025e-01,  ..., 1.5890e-01,\n",
              "           5.1065e-01, 5.8245e-01],\n",
              "          [8.0310e-01, 7.9009e-01, 6.2501e-04,  ..., 3.0854e-01,\n",
              "           5.2199e-01, 1.2938e-01],\n",
              "          [1.4783e-02, 6.1790e-01, 6.9927e-01,  ..., 1.9088e-01,\n",
              "           6.7606e-01, 2.1856e-01]]],\n",
              "\n",
              "\n",
              "        [[[2.6976e-01, 3.6667e-01, 3.8431e-01,  ..., 5.9308e-01,\n",
              "           6.2821e-01, 7.8620e-01],\n",
              "          [7.1061e-01, 9.4999e-01, 2.7633e-01,  ..., 4.1133e-01,\n",
              "           7.4446e-01, 1.6285e-01],\n",
              "          [8.1085e-01, 3.4338e-01, 3.7916e-01,  ..., 7.5141e-01,\n",
              "           8.8171e-01, 4.5189e-01],\n",
              "          ...,\n",
              "          [6.7016e-01, 6.0537e-01, 5.9569e-01,  ..., 6.0668e-01,\n",
              "           6.7524e-01, 1.7428e-01],\n",
              "          [9.5624e-01, 8.2870e-01, 1.2618e-01,  ..., 8.3062e-01,\n",
              "           3.1934e-01, 5.5716e-01],\n",
              "          [7.9327e-01, 2.6720e-01, 7.6687e-01,  ..., 6.0232e-01,\n",
              "           8.0002e-01, 9.9616e-01]],\n",
              "\n",
              "         [[5.4546e-01, 6.3102e-01, 8.9616e-02,  ..., 6.5422e-01,\n",
              "           5.3970e-01, 6.4836e-01],\n",
              "          [7.2387e-01, 2.0679e-01, 2.7339e-01,  ..., 1.9474e-01,\n",
              "           4.3151e-02, 7.2822e-01],\n",
              "          [9.7026e-01, 6.0071e-01, 9.8001e-03,  ..., 6.1613e-01,\n",
              "           7.7138e-01, 3.7470e-01],\n",
              "          ...,\n",
              "          [4.2533e-01, 5.7988e-01, 2.7421e-01,  ..., 9.7110e-01,\n",
              "           9.1068e-01, 3.0393e-02],\n",
              "          [3.0544e-01, 6.2342e-01, 2.9109e-01,  ..., 1.3857e-01,\n",
              "           4.1454e-01, 7.6987e-01],\n",
              "          [9.6043e-01, 7.1362e-01, 6.6087e-01,  ..., 3.2879e-02,\n",
              "           3.0361e-02, 7.6945e-01]],\n",
              "\n",
              "         [[4.8715e-01, 4.7469e-02, 8.2840e-01,  ..., 2.0815e-01,\n",
              "           6.9817e-01, 5.8682e-01],\n",
              "          [3.9799e-02, 3.6634e-01, 9.3127e-01,  ..., 3.7056e-01,\n",
              "           4.0584e-01, 8.9325e-01],\n",
              "          [4.7066e-01, 4.4047e-01, 7.1353e-02,  ..., 5.0103e-02,\n",
              "           8.8561e-01, 9.2446e-01],\n",
              "          ...,\n",
              "          [9.7933e-01, 4.6525e-01, 2.8997e-01,  ..., 2.7997e-01,\n",
              "           1.9817e-01, 3.6735e-01],\n",
              "          [4.0503e-01, 7.5119e-01, 9.3587e-01,  ..., 8.4836e-01,\n",
              "           1.8575e-01, 8.6833e-01],\n",
              "          [1.4686e-01, 5.8741e-01, 7.9737e-01,  ..., 4.0572e-01,\n",
              "           4.1732e-01, 6.8001e-01]],\n",
              "\n",
              "         ...,\n",
              "\n",
              "         [[1.7695e-01, 3.2390e-01, 6.7362e-01,  ..., 1.9324e-02,\n",
              "           3.6169e-01, 2.3757e-01],\n",
              "          [4.7551e-01, 5.5039e-01, 7.8922e-01,  ..., 9.3990e-01,\n",
              "           8.8047e-01, 2.9162e-01],\n",
              "          [1.4994e-01, 7.7949e-01, 1.7062e-01,  ..., 9.8876e-01,\n",
              "           2.2710e-01, 2.8864e-01],\n",
              "          ...,\n",
              "          [8.1178e-01, 7.3700e-01, 7.2718e-01,  ..., 5.8806e-02,\n",
              "           5.1983e-01, 5.7335e-01],\n",
              "          [8.0830e-01, 9.8707e-01, 7.3667e-01,  ..., 7.0071e-01,\n",
              "           3.4898e-01, 9.7912e-01],\n",
              "          [3.1739e-03, 8.1402e-01, 7.9639e-01,  ..., 2.1161e-01,\n",
              "           8.2238e-01, 5.4256e-01]],\n",
              "\n",
              "         [[9.4307e-01, 6.9488e-01, 3.2275e-01,  ..., 9.7514e-01,\n",
              "           8.8925e-01, 7.8415e-01],\n",
              "          [6.6493e-02, 1.9197e-01, 3.0023e-01,  ..., 4.1239e-02,\n",
              "           6.7122e-01, 8.2602e-01],\n",
              "          [6.7396e-01, 8.9632e-01, 2.7894e-01,  ..., 7.3803e-02,\n",
              "           8.7415e-01, 8.9622e-02],\n",
              "          ...,\n",
              "          [8.1985e-01, 6.2793e-01, 9.5133e-01,  ..., 1.9691e-01,\n",
              "           2.1057e-01, 2.5502e-01],\n",
              "          [2.5615e-01, 5.7544e-01, 2.9028e-01,  ..., 8.8748e-03,\n",
              "           8.6199e-01, 5.9804e-01],\n",
              "          [1.1850e-01, 3.7237e-01, 9.5790e-03,  ..., 5.6265e-01,\n",
              "           6.1249e-01, 4.2761e-01]],\n",
              "\n",
              "         [[9.5238e-02, 4.1819e-01, 2.9904e-01,  ..., 3.0022e-01,\n",
              "           7.4430e-01, 8.1174e-01],\n",
              "          [1.4695e-01, 3.9314e-01, 6.8624e-02,  ..., 5.3509e-01,\n",
              "           7.8570e-01, 1.0485e-01],\n",
              "          [3.5348e-01, 7.9871e-01, 3.8260e-02,  ..., 3.1472e-01,\n",
              "           5.7381e-02, 4.5919e-01],\n",
              "          ...,\n",
              "          [9.5102e-03, 2.9554e-01, 2.5738e-01,  ..., 9.2395e-01,\n",
              "           1.5016e-01, 4.8751e-01],\n",
              "          [4.1124e-01, 8.0458e-01, 9.2697e-01,  ..., 1.4797e-01,\n",
              "           7.3744e-01, 2.1257e-02],\n",
              "          [8.4252e-01, 7.6911e-01, 6.5139e-01,  ..., 3.8918e-01,\n",
              "           5.4900e-01, 4.3938e-01]]]], device='cuda:0')"
            ]
          },
          "execution_count": 21,
          "metadata": {},
          "output_type": "execute_result"
        }
      ],
      "source": [
        "n=100\n",
        "t1 = torch.rand(size=(n,n,n,n))\n",
        "t2 = torch.rand(size=(n,n,n,n))\n",
        "t1.cuda()\n",
        "t2.cuda()"
      ]
    },
    {
      "cell_type": "code",
      "execution_count": 22,
      "metadata": {
        "colab": {
          "base_uri": "https://localhost:8080/",
          "height": 287
        },
        "id": "pz8eVDGcPMhB",
        "outputId": "929a2a09-49e1-4c00-cba9-29f648e563cc"
      },
      "outputs": [],
      "source": [
        "t = torch.add(t1, t2) #sum between tensors\n",
        "s = torch.sum(t1) #sum between all elements of tensor"
      ]
    },
    {
      "cell_type": "code",
      "execution_count": 23,
      "metadata": {},
      "outputs": [],
      "source": [
        "t3 = torch.matmul(t1,t2)"
      ]
    },
    {
      "cell_type": "code",
      "execution_count": 24,
      "metadata": {},
      "outputs": [
        {
          "name": "stdout",
          "output_type": "stream",
          "text": [
            "C:\\Users\\giuli\\Documents\\GitHub\\ML_DL_LABS\\Lab1\n"
          ]
        }
      ],
      "source": [
        "%cd C:\\Users\\giuli\\Documents\\GitHub\\ML_DL_LABS\\Lab1"
      ]
    },
    {
      "cell_type": "code",
      "execution_count": 45,
      "metadata": {},
      "outputs": [
        {
          "data": {
            "text/plain": [
              "dict_keys([b'batch_label', b'labels', b'data', b'filenames'])"
            ]
          },
          "execution_count": 45,
          "metadata": {},
          "output_type": "execute_result"
        }
      ],
      "source": [
        "def unpickle(file):\n",
        "    import pickle\n",
        "    with open(file, 'rb') as fo:\n",
        "        dict = pickle.load(fo, encoding='bytes')\n",
        "    return dict\n",
        "\n",
        "batch = unpickle('cifar-10-python/cifar-10-batches-py/data_batch_1')\n",
        "batch.keys()"
      ]
    },
    {
      "cell_type": "code",
      "execution_count": 49,
      "metadata": {},
      "outputs": [
        {
          "data": {
            "image/png": "[encoded data removed]",
            "text/plain": [
              "<Figure size 640x480 with 1 Axes>"
            ]
          },
          "metadata": {},
          "output_type": "display_data"
        }
      ],
      "source": [
        "batch[b'data'].shape #10000 RGB images with 1024 pixels and 3 color channels (32*32*3)\n",
        "image = batch[b'data'][4] #first image\n",
        "image = image.reshape((3,32,32)) \n",
        "image = image.transpose(1,2,0) #necessary operations in order to format images the wight way\n",
        "plt.imshow(image)\n",
        "batch[b'labels'][5]\n",
        "b =batch[b'data'].dtype"
      ]
    },
    {
      "cell_type": "code",
      "execution_count": null,
      "metadata": {},
      "outputs": [],
      "source": []
    },
    {
      "attachments": {},
      "cell_type": "markdown",
      "metadata": {},
      "source": [
        "Class for CIFAR10 dataset\n"
      ]
    },
    {
      "cell_type": "code",
      "execution_count": 109,
      "metadata": {},
      "outputs": [],
      "source": [
        "import torch\n",
        "import pandas as pd\n",
        "from torch.utils.data import Dataset\n",
        "from torchvision import transforms\n",
        "import numpy as np\n",
        "\n",
        "class DatasetCIFAR(Dataset):\n",
        "    def __init__(self, file_path):\n",
        "        \n",
        "        def unpickle(file):\n",
        "            import pickle\n",
        "            with open(file, 'rb') as fo:\n",
        "                dict = pickle.load(fo, encoding='bytes')\n",
        "            return dict\n",
        "\n",
        "        self.data = np.empty([1, 32, 32, 3], dtype=int)\n",
        "        self.labels = np.empty(1, dtype=int)        \n",
        "        for file in file_path:\n",
        "            batch = unpickle(file)\n",
        "            data_tmp = batch[b'data'].reshape(len(batch[b'data']), 3, 32, 32).transpose(0,2,3,1)\n",
        "            labels_tmp = batch[b'labels']\n",
        "            self.data = np.append(self.data, data_tmp, axis=0) \n",
        "            self.labels = np.append(self.labels, labels_tmp, axis = 0) \n",
        "        \n",
        "        self.data = self.data[1:,:,:,:]\n",
        "        self.labels = self.labels[1:]\n",
        "        \n",
        "\n",
        "    def __len__(self):\n",
        "        return len(self.labels)\n",
        "    \n",
        "    def __getitem__(self, index):\n",
        "        image =self.data[index] \n",
        "        label = self.labels[index]\n",
        "        return image, label"
      ]
    },
    {
      "cell_type": "code",
      "execution_count": 110,
      "metadata": {},
      "outputs": [
        {
          "data": {
            "text/plain": [
              "<matplotlib.image.AxesImage at 0x1dad9819870>"
            ]
          },
          "execution_count": 110,
          "metadata": {},
          "output_type": "execute_result"
        },
        {
          "data": {
            "image/png": "[encoded data removed]",
            "text/plain": [
              "<Figure size 640x480 with 1 Axes>"
            ]
          },
          "metadata": {},
          "output_type": "display_data"
        }
      ],
      "source": [
        "trainset = DatasetCIFAR(['cifar-10-python/cifar-10-batches-py/data_batch_1',\n",
        "                       'cifar-10-python/cifar-10-batches-py/data_batch_2',\n",
        "                       'cifar-10-python/cifar-10-batches-py/data_batch_3',\n",
        "                       'cifar-10-python/cifar-10-batches-py/data_batch_4',\n",
        "                       'cifar-10-python/cifar-10-batches-py/data_batch_5'])\n",
        "testset = DatasetCIFAR(['cifar-10-python/cifar-10-batches-py/test_batch'])\n",
        "img, label =testset[4]\n",
        "plt.imshow(img)"
      ]
    },
    {
      "cell_type": "code",
      "execution_count": 112,
      "metadata": {},
      "outputs": [],
      "source": [
        "from torch.utils.data import DataLoader\n",
        "\n",
        "trainloader = DataLoader(trainset, batch_size=32)\n",
        "testloader = DataLoader(testset, batch_size=32)"
      ]
    }
  ],
  "metadata": {
    "colab": {
      "provenance": []
    },
    "kernelspec": {
      "display_name": "Python 3",
      "language": "python",
      "name": "python3"
    },
    "language_info": {
      "codemirror_mode": {
        "name": "ipython",
        "version": 3
      },
      "file_extension": ".py",
      "mimetype": "text/x-python",
      "name": "python",
      "nbconvert_exporter": "python",
      "pygments_lexer": "ipython3",
      "version": "3.10.7 (tags/v3.10.7:6cc6b13, Sep  5 2022, 14:08:36) [MSC v.1933 64 bit (AMD64)]"
    },
    "vscode": {
      "interpreter": {
        "hash": "d1254c3cc9e57f52b804b6ab65bbeea341813290580c92b29841c38c0e3519f7"
      }
    }
  },
  "nbformat": 4,
  "nbformat_minor": 0
}
