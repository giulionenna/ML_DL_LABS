{
 "cells": [
  {
   "attachments": {},
   "cell_type": "markdown",
   "metadata": {},
   "source": [
    "## Es 1"
   ]
  },
  {
   "cell_type": "code",
   "execution_count": 27,
   "metadata": {},
   "outputs": [
    {
     "data": {
      "image/png": "[encoded data removed]",
      "text/plain": [
       "<Figure size 640x480 with 1 Axes>"
      ]
     },
     "metadata": {},
     "output_type": "display_data"
    }
   ],
   "source": [
    "# 1. Load iris Dataset\n",
    "from sklearn import datasets\n",
    "X, y = datasets.load_iris(return_X_y=True)\n",
    "\n",
    "# 2. Select the first two features and the first two \n",
    "import numpy as np\n",
    "selection = np.logical_or(y==1, y==0) \n",
    "X = X[selection, 0:2]\n",
    "y = y[selection]\n",
    "y[y==0] = -1 #needed to work with perceptron\n",
    "\n",
    "# 3. Randomly split data into train, validation and test sets in proportion 5:2:3\n",
    "from sklearn.model_selection import train_test_split \n",
    "X_train, X_test, y_train, y_test = train_test_split(X, y, test_size=0.5, random_state=420)\n",
    "X_val, X_test, y_val, y_test = train_test_split(X_test, y_test, test_size=0.6, random_state=420)\n",
    "\n",
    "#4. For learning rate in [0.01, 0.1, 0.5]:\n",
    "#   • Train a perceptron on the training set;\n",
    "#   • Plot the data and the decision regions (hint: plt.scatter(), plt.contourf(), np.meshgrid())\n",
    "#   • Evaluate on the validation set\n",
    "\n",
    "class Perceptron:\n",
    "    def __init__(self, learning_rate = 0.1, n_iter = 1000):\n",
    "        self.learning_rate = learning_rate\n",
    "        self.n_iter = n_iter\n",
    "        self._b = 0.0\n",
    "        self._w = None\n",
    "        self._misclassified_samples = []\n",
    "\n",
    "    def f(self, x: np.array) -> float:\n",
    "        return np.dot(x, self._w) + self._b\n",
    "    \n",
    "    def predict(self, x: np.array) -> int:\n",
    "        return np.where(self.f(x)>= 0.0, 1, -1)\n",
    "\n",
    "    def fit(self, x: np.array, y: np.array):\n",
    "        self._b = 0.0\n",
    "        self._w=np.zeros(x.shape[1])\n",
    "        self._misclassified_samples = []\n",
    "\n",
    "        for _ in range(self.n_iter):\n",
    "            errors = 0\n",
    "            for xi, yi in zip(x, y):\n",
    "                update = self.learning_rate * (yi - self.predict(xi))\n",
    "                self._b += update\n",
    "                self._w += update*xi\n",
    "                errors += int(update != 0.0)\n",
    "            self._misclassified_samples.append(errors)\n",
    "    \n",
    "    def score(self, x: np.array, y: np.array) -> float:\n",
    "        pred = self.predict(x)\n",
    "        correct_pred = sum(pred == y)\n",
    "        return correct_pred/y.shape[0]\n",
    "        \n",
    "\n",
    "import matplotlib.pyplot as plt\n",
    "\n",
    "for lr in [0.01]:\n",
    "    clf = Perceptron(learning_rate=lr)\n",
    "    clf.fit(X_train, y_train)\n",
    "    score = clf.score(X_val, y_val)\n",
    "    plt.scatter(X_val[:,0], X_val[:,1], c=y_val)\n"
   ]
  },
  {
   "cell_type": "code",
   "execution_count": 30,
   "metadata": {},
   "outputs": [],
   "source": [
    "import numpy as np\n",
    "np.sum(np.logical_or(y==1, y==0))\n",
    "3/5\n",
    "y[y==0] = -1\n",
    "\n",
    "np.sum(np.array([0,1,2]) == np.array([0,1,3]))"
   ]
  }
 ],
 "metadata": {
  "kernelspec": {
   "display_name": "Python 3",
   "language": "python",
   "name": "python3"
  },
  "language_info": {
   "codemirror_mode": {
    "name": "ipython",
    "version": 3
   },
   "file_extension": ".py",
   "mimetype": "text/x-python",
   "name": "python",
   "nbconvert_exporter": "python",
   "pygments_lexer": "ipython3",
   "version": "3.10.7"
  },
  "orig_nbformat": 4
 },
 "nbformat": 4,
 "nbformat_minor": 2
}
